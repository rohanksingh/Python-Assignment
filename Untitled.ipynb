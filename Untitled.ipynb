{
 "cells": [
  {
   "cell_type": "code",
   "execution_count": 3,
   "id": "ce656149-a3fe-43e6-9d3d-cf1eb427beaf",
   "metadata": {},
   "outputs": [],
   "source": [
    "import os"
   ]
  },
  {
   "cell_type": "code",
   "execution_count": 4,
   "id": "4f2e4e60-de69-420e-bb69-2036f8fb455c",
   "metadata": {},
   "outputs": [
    {
     "data": {
      "text/plain": [
       "'C:\\\\Users\\\\rohan\\\\fastapi_project'"
      ]
     },
     "execution_count": 4,
     "metadata": {},
     "output_type": "execute_result"
    }
   ],
   "source": [
    "os.getcwd()"
   ]
  },
  {
   "cell_type": "code",
   "execution_count": 1,
   "id": "92fe85eb-9d1c-44d0-8c39-c5af7b46f224",
   "metadata": {},
   "outputs": [
    {
     "name": "stdout",
     "output_type": "stream",
     "text": [
      "Requirement already satisfied: fastapi in c:\\users\\rohan\\anaconda3\\anaconda\\lib\\site-packages (from -r requirements.txt (line 1)) (0.111.0)\n",
      "Requirement already satisfied: uvicorn in c:\\users\\rohan\\anaconda3\\anaconda\\lib\\site-packages (from -r requirements.txt (line 2)) (0.30.1)\n",
      "Requirement already satisfied: pydantic in c:\\users\\rohan\\anaconda3\\anaconda\\lib\\site-packages (from -r requirements.txt (line 3)) (1.10.12)\n",
      "Requirement already satisfied: starlette<0.38.0,>=0.37.2 in c:\\users\\rohan\\anaconda3\\anaconda\\lib\\site-packages (from fastapi->-r requirements.txt (line 1)) (0.37.2)\n",
      "Requirement already satisfied: typing-extensions>=4.8.0 in c:\\users\\rohan\\anaconda3\\anaconda\\lib\\site-packages (from fastapi->-r requirements.txt (line 1)) (4.9.0)\n",
      "Requirement already satisfied: fastapi-cli>=0.0.2 in c:\\users\\rohan\\anaconda3\\anaconda\\lib\\site-packages (from fastapi->-r requirements.txt (line 1)) (0.0.4)\n",
      "Requirement already satisfied: httpx>=0.23.0 in c:\\users\\rohan\\anaconda3\\anaconda\\lib\\site-packages (from fastapi->-r requirements.txt (line 1)) (0.27.0)\n",
      "Requirement already satisfied: jinja2>=2.11.2 in c:\\users\\rohan\\anaconda3\\anaconda\\lib\\site-packages (from fastapi->-r requirements.txt (line 1)) (3.1.3)\n",
      "Requirement already satisfied: python-multipart>=0.0.7 in c:\\users\\rohan\\anaconda3\\anaconda\\lib\\site-packages (from fastapi->-r requirements.txt (line 1)) (0.0.9)\n",
      "Requirement already satisfied: ujson!=4.0.2,!=4.1.0,!=4.2.0,!=4.3.0,!=5.0.0,!=5.1.0,>=4.0.1 in c:\\users\\rohan\\anaconda3\\anaconda\\lib\\site-packages (from fastapi->-r requirements.txt (line 1)) (5.4.0)\n",
      "Requirement already satisfied: orjson>=3.2.1 in c:\\users\\rohan\\anaconda3\\anaconda\\lib\\site-packages (from fastapi->-r requirements.txt (line 1)) (3.10.5)\n",
      "Requirement already satisfied: email_validator>=2.0.0 in c:\\users\\rohan\\anaconda3\\anaconda\\lib\\site-packages (from fastapi->-r requirements.txt (line 1)) (2.2.0)\n",
      "Requirement already satisfied: click>=7.0 in c:\\users\\rohan\\anaconda3\\anaconda\\lib\\site-packages (from uvicorn->-r requirements.txt (line 2)) (8.1.7)\n",
      "Requirement already satisfied: h11>=0.8 in c:\\users\\rohan\\anaconda3\\anaconda\\lib\\site-packages (from uvicorn->-r requirements.txt (line 2)) (0.14.0)\n",
      "Requirement already satisfied: colorama in c:\\users\\rohan\\anaconda3\\anaconda\\lib\\site-packages (from click>=7.0->uvicorn->-r requirements.txt (line 2)) (0.4.6)\n",
      "Requirement already satisfied: dnspython>=2.0.0 in c:\\users\\rohan\\anaconda3\\anaconda\\lib\\site-packages (from email_validator>=2.0.0->fastapi->-r requirements.txt (line 1)) (2.6.1)\n",
      "Requirement already satisfied: idna>=2.0.0 in c:\\users\\rohan\\anaconda3\\anaconda\\lib\\site-packages (from email_validator>=2.0.0->fastapi->-r requirements.txt (line 1)) (3.4)\n",
      "Requirement already satisfied: typer>=0.12.3 in c:\\users\\rohan\\anaconda3\\anaconda\\lib\\site-packages (from fastapi-cli>=0.0.2->fastapi->-r requirements.txt (line 1)) (0.12.3)\n",
      "Requirement already satisfied: anyio in c:\\users\\rohan\\anaconda3\\anaconda\\lib\\site-packages (from httpx>=0.23.0->fastapi->-r requirements.txt (line 1)) (4.2.0)\n",
      "Requirement already satisfied: certifi in c:\\users\\rohan\\anaconda3\\anaconda\\lib\\site-packages (from httpx>=0.23.0->fastapi->-r requirements.txt (line 1)) (2024.2.2)\n",
      "Requirement already satisfied: httpcore==1.* in c:\\users\\rohan\\anaconda3\\anaconda\\lib\\site-packages (from httpx>=0.23.0->fastapi->-r requirements.txt (line 1)) (1.0.5)\n",
      "Requirement already satisfied: sniffio in c:\\users\\rohan\\anaconda3\\anaconda\\lib\\site-packages (from httpx>=0.23.0->fastapi->-r requirements.txt (line 1)) (1.3.0)\n",
      "Requirement already satisfied: MarkupSafe>=2.0 in c:\\users\\rohan\\anaconda3\\anaconda\\lib\\site-packages (from jinja2>=2.11.2->fastapi->-r requirements.txt (line 1)) (2.1.3)\n",
      "Requirement already satisfied: httptools>=0.5.0 in c:\\users\\rohan\\anaconda3\\anaconda\\lib\\site-packages (from uvicorn[standard]>=0.12.0->fastapi->-r requirements.txt (line 1)) (0.6.1)\n",
      "Requirement already satisfied: python-dotenv>=0.13 in c:\\users\\rohan\\anaconda3\\anaconda\\lib\\site-packages (from uvicorn[standard]>=0.12.0->fastapi->-r requirements.txt (line 1)) (0.21.0)\n",
      "Requirement already satisfied: pyyaml>=5.1 in c:\\users\\rohan\\anaconda3\\anaconda\\lib\\site-packages (from uvicorn[standard]>=0.12.0->fastapi->-r requirements.txt (line 1)) (6.0.1)\n",
      "Requirement already satisfied: watchfiles>=0.13 in c:\\users\\rohan\\anaconda3\\anaconda\\lib\\site-packages (from uvicorn[standard]>=0.12.0->fastapi->-r requirements.txt (line 1)) (0.22.0)\n",
      "Requirement already satisfied: websockets>=10.4 in c:\\users\\rohan\\anaconda3\\anaconda\\lib\\site-packages (from uvicorn[standard]>=0.12.0->fastapi->-r requirements.txt (line 1)) (12.0)\n",
      "Requirement already satisfied: shellingham>=1.3.0 in c:\\users\\rohan\\anaconda3\\anaconda\\lib\\site-packages (from typer>=0.12.3->fastapi-cli>=0.0.2->fastapi->-r requirements.txt (line 1)) (1.5.4)\n",
      "Requirement already satisfied: rich>=10.11.0 in c:\\users\\rohan\\anaconda3\\anaconda\\lib\\site-packages (from typer>=0.12.3->fastapi-cli>=0.0.2->fastapi->-r requirements.txt (line 1)) (13.3.5)\n",
      "Requirement already satisfied: markdown-it-py<3.0.0,>=2.2.0 in c:\\users\\rohan\\anaconda3\\anaconda\\lib\\site-packages (from rich>=10.11.0->typer>=0.12.3->fastapi-cli>=0.0.2->fastapi->-r requirements.txt (line 1)) (2.2.0)\n",
      "Requirement already satisfied: pygments<3.0.0,>=2.13.0 in c:\\users\\rohan\\anaconda3\\anaconda\\lib\\site-packages (from rich>=10.11.0->typer>=0.12.3->fastapi-cli>=0.0.2->fastapi->-r requirements.txt (line 1)) (2.15.1)\n",
      "Requirement already satisfied: mdurl~=0.1 in c:\\users\\rohan\\anaconda3\\anaconda\\lib\\site-packages (from markdown-it-py<3.0.0,>=2.2.0->rich>=10.11.0->typer>=0.12.3->fastapi-cli>=0.0.2->fastapi->-r requirements.txt (line 1)) (0.1.0)\n",
      "Note: you may need to restart the kernel to use updated packages.\n"
     ]
    }
   ],
   "source": [
    "pip install -r requirements.txt"
   ]
  },
  {
   "cell_type": "code",
   "execution_count": null,
   "id": "aedb836f-67bb-49e1-82f2-88fe4e7d09b3",
   "metadata": {},
   "outputs": [
    {
     "name": "stderr",
     "output_type": "stream",
     "text": [
      "INFO:     Will watch for changes in these directories: ['C:\\\\Users\\\\rohan\\\\fastapi_project']\n",
      "INFO:     Uvicorn running on http://127.0.0.1:8000 (Press CTRL+C to quit)\n",
      "INFO:     Started reloader process [27480] using WatchFiles\n"
     ]
    }
   ],
   "source": [
    "%run run.py"
   ]
  },
  {
   "cell_type": "code",
   "execution_count": null,
   "id": "53840861-7871-4aea-ad14-3731f32ab431",
   "metadata": {},
   "outputs": [],
   "source": []
  }
 ],
 "metadata": {
  "kernelspec": {
   "display_name": "Python 3 (ipykernel)",
   "language": "python",
   "name": "python3"
  },
  "language_info": {
   "codemirror_mode": {
    "name": "ipython",
    "version": 3
   },
   "file_extension": ".py",
   "mimetype": "text/x-python",
   "name": "python",
   "nbconvert_exporter": "python",
   "pygments_lexer": "ipython3",
   "version": "3.11.7"
  }
 },
 "nbformat": 4,
 "nbformat_minor": 5
}
